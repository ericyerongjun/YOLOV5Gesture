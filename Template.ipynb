{
 "cells": [
  {
   "cell_type": "markdown",
   "metadata": {},
   "source": [
    "# Setting up the environment"
   ]
  },
  {
   "cell_type": "code",
   "execution_count": null,
   "metadata": {},
   "outputs": [],
   "source": [
    "## Windows\n",
    "# python -m venv .venv\n",
    "\n",
    "## MacOS\n",
    "# python3 -m venv .venv\n",
    "\n",
    "## Linux\n",
    "# python3 -m venv .venv\n",
    "\n",
    "# Activating the virtual environment\n",
    "## Windows\n",
    "# .venv\\Scripts\\activate\n",
    "\n",
    "## MacOS\n",
    "# source .venv/bin/activate\n",
    "\n",
    "## Install the dependencies\n",
    "# pip install ultralytics numpy opencv-python jupyter\n"
   ]
  },
  {
   "cell_type": "markdown",
   "metadata": {},
   "source": [
    "# Importing the libraries"
   ]
  },
  {
   "cell_type": "code",
   "execution_count": 1,
   "metadata": {},
   "outputs": [],
   "source": []
  },
  {
   "cell_type": "markdown",
   "metadata": {},
   "source": [
    "# Opening your own camera"
   ]
  },
  {
   "cell_type": "code",
   "execution_count": null,
   "metadata": {},
   "outputs": [],
   "source": [
    "\n",
    "def capture_video():\n",
    "    \n",
    "    pass"
   ]
  },
  {
   "cell_type": "markdown",
   "metadata": {},
   "source": [
    "# Loading the model"
   ]
  },
  {
   "cell_type": "code",
   "execution_count": null,
   "metadata": {},
   "outputs": [],
   "source": [
    "# Load the model and run detections on an iamge\n",
    "\n",
    "\n",
    "# Example detection of an image\n",
    "image_path = 'samples/hand10.png'\n",
    "image = cv2.imread(image_path)\n",
    "\n",
    "\n",
    "# Print the results\n"
   ]
  },
  {
   "cell_type": "markdown",
   "metadata": {},
   "source": [
    "## Drawing the bounding boxes"
   ]
  },
  {
   "cell_type": "code",
   "execution_count": 3,
   "metadata": {},
   "outputs": [],
   "source": [
    "def draw_bounding_box(frame, box, names):\n",
    "    '''\n",
    "    This function draws a thicker bounding box on the frame and returns the frame.\n",
    "    The letter and confidence score are also displayed in larger text.\n",
    "    '''\n",
    "    pass"
   ]
  },
  {
   "cell_type": "code",
   "execution_count": null,
   "metadata": {},
   "outputs": [],
   "source": [
    "# Draw  the box on the previous image and display it\n"
   ]
  },
  {
   "cell_type": "markdown",
   "metadata": {},
   "source": [
    "## Incorporating the model"
   ]
  },
  {
   "cell_type": "code",
   "execution_count": 2,
   "metadata": {},
   "outputs": [],
   "source": [
    "# Function to find the best detection. Ensure one detection at max, and a specific confidence threshold\n",
    "\n",
    "def find_best_detection(results):\n",
    "    pass\n"
   ]
  },
  {
   "cell_type": "code",
   "execution_count": null,
   "metadata": {},
   "outputs": [],
   "source": [
    "\n",
    "# Detect the video and draw the bounding box\n",
    "def detect_video(model):\n",
    "    pass\n"
   ]
  },
  {
   "cell_type": "markdown",
   "metadata": {},
   "source": [
    "## Adding some extra features with the detected letter\n",
    "\n",
    "Ideas:\n",
    "1. Spelling with the detections\n",
    "2. Display random letter and match with sign language\n"
   ]
  },
  {
   "cell_type": "code",
   "execution_count": null,
   "metadata": {},
   "outputs": [],
   "source": [
    "\n",
    "def detect_video_with_spelling(model):\n",
    "    '''\n",
    "    This function detects the video, draws the bounding box, shows the current spelling and displays it.\n",
    "    '''\n",
    "    pass"
   ]
  },
  {
   "cell_type": "code",
   "execution_count": null,
   "metadata": {},
   "outputs": [],
   "source": [
    "detect_video_with_spelling(model)"
   ]
  }
 ],
 "metadata": {
  "kernelspec": {
   "display_name": ".venv",
   "language": "python",
   "name": "python3"
  },
  "language_info": {
   "codemirror_mode": {
    "name": "ipython",
    "version": 3
   },
   "file_extension": ".py",
   "mimetype": "text/x-python",
   "name": "python",
   "nbconvert_exporter": "python",
   "pygments_lexer": "ipython3",
   "version": "3.11.10"
  }
 },
 "nbformat": 4,
 "nbformat_minor": 2
}
